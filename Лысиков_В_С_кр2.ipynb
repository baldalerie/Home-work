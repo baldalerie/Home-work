{
  "nbformat": 4,
  "nbformat_minor": 0,
  "metadata": {
    "colab": {
      "provenance": [],
      "toc_visible": true,
      "mount_file_id": "1Q8DMFdhEyTD3it0gvB0DieF2mT79vTM2",
      "authorship_tag": "ABX9TyMXcP2/v2TD/VliGRPCZfZN",
      "include_colab_link": true
    },
    "kernelspec": {
      "name": "python3",
      "display_name": "Python 3"
    },
    "language_info": {
      "name": "python"
    }
  },
  "cells": [
    {
      "cell_type": "markdown",
      "metadata": {
        "id": "view-in-github",
        "colab_type": "text"
      },
      "source": [
        "<a href=\"https://colab.research.google.com/github/baldalerie/Home-work/blob/main/%D0%9B%D1%8B%D1%81%D0%B8%D0%BA%D0%BE%D0%B2_%D0%92_%D0%A1_%D0%BA%D1%802.ipynb\" target=\"_parent\"><img src=\"https://colab.research.google.com/assets/colab-badge.svg\" alt=\"Open In Colab\"/></a>"
      ]
    },
    {
      "cell_type": "markdown",
      "source": [
        "Задача 1"
      ],
      "metadata": {
        "id": "VNiBktcubY-F"
      }
    },
    {
      "cell_type": "code",
      "execution_count": 1,
      "metadata": {
        "id": "uTtim-OLYMco"
      },
      "outputs": [],
      "source": [
        "import scipy.stats as stats\n",
        "import pandas as pd\n",
        "from random import randint\n",
        "\n",
        "alpha = 0.01 # уровень значимости\n",
        "X = 22 # необходимая сумма очков\n",
        "s_N = []\n",
        "for i in range(1,100000): # расширяем выборку до 100000 подбрасываний дайсов\n",
        "    d1 = randint(1,6) # равномерное распределение p=1/6\n",
        "    d2 = randint(1,6)\n",
        "    d3 = randint(1,6)\n",
        "    d4 = randint(1,6)\n",
        "    s = d1 + d2 + d3 + d4\n",
        "    s_N.append(s)"
      ]
    },
    {
      "cell_type": "code",
      "source": [
        "s_N = pd.Series(s_N) # упорядочиваем список сумм\n",
        "stats.zscore(s_N) # стандартизируем список по нормальному распределению (с правилом трех сигм)\n",
        "print(s_N)"
      ],
      "metadata": {
        "colab": {
          "base_uri": "https://localhost:8080/"
        },
        "id": "wFJpfFYObSbp",
        "outputId": "70bf5252-e9f9-4e79-b4d0-16c91bd8d701"
      },
      "execution_count": 2,
      "outputs": [
        {
          "output_type": "stream",
          "name": "stdout",
          "text": [
            "0        11\n",
            "1         8\n",
            "2        14\n",
            "3        19\n",
            "4        13\n",
            "         ..\n",
            "99994    17\n",
            "99995    14\n",
            "99996    11\n",
            "99997    18\n",
            "99998    19\n",
            "Length: 99999, dtype: int64\n"
          ]
        }
      ]
    },
    {
      "cell_type": "code",
      "source": [
        "# Вычисляем значение z - на сколько стандартных отклонений случайная величина отличается от мат. ожидания\n",
        "z = (X - s_N.mean()) / s_N.std()\n",
        "print('z = ', round(z, 4))"
      ],
      "metadata": {
        "colab": {
          "base_uri": "https://localhost:8080/"
        },
        "id": "cHyLIjkdbSZg",
        "outputId": "98ed6156-d929-4075-c2f0-141ab136f3d2"
      },
      "execution_count": 3,
      "outputs": [
        {
          "output_type": "stream",
          "name": "stdout",
          "text": [
            "z =  2.3398\n"
          ]
        }
      ]
    },
    {
      "cell_type": "code",
      "source": [
        "# В соответсвии со значением z находим p\n",
        "p_value = stats.norm.sf(abs(z))\n",
        "# Вероятность случайной величины (сумма очков) реализоваться выше, чем z\n",
        "print('p_value = ', round(p_value, 4))"
      ],
      "metadata": {
        "colab": {
          "base_uri": "https://localhost:8080/"
        },
        "id": "FP29a7mSbSXc",
        "outputId": "b9acec55-4369-4145-9954-39ea2a59d6c3"
      },
      "execution_count": 4,
      "outputs": [
        {
          "output_type": "stream",
          "name": "stdout",
          "text": [
            "p_value =  0.0096\n"
          ]
        }
      ]
    },
    {
      "cell_type": "code",
      "source": [
        "if p_value < alpha:\n",
        "    print('Отклонить гипотезу H0')\n",
        "else:\n",
        "    print('Не отклонить гипотезу H0')"
      ],
      "metadata": {
        "colab": {
          "base_uri": "https://localhost:8080/"
        },
        "id": "ZD2SIQJhbSS6",
        "outputId": "ebc694c5-9718-40b5-ebef-bdc95afaaab0"
      },
      "execution_count": 5,
      "outputs": [
        {
          "output_type": "stream",
          "name": "stdout",
          "text": [
            "Отклонить гипотезу H0\n"
          ]
        }
      ]
    },
    {
      "cell_type": "markdown",
      "source": [
        "Вывод: отклоним гипотезу H0 в пользу альтернативной Н1. Игрок пройдет проверку (сумма очков на дайсах равна 22 и больше) при гипотезе Н1"
      ],
      "metadata": {
        "id": "N0fY87sqbZhl"
      }
    },
    {
      "cell_type": "markdown",
      "source": [
        "Задача 2"
      ],
      "metadata": {
        "id": "J4GSAhi8bZW7"
      }
    },
    {
      "cell_type": "code",
      "source": [
        "import scipy.stats as stats\n",
        "from mpmath import *\n",
        "mp.dps = 100000 # устанавливаем количество знаков после запятой\n",
        "\n",
        "#alpha = 0.9 - уровень доверия\n",
        "N = 100000\n",
        "\n",
        "pi = 4*atan(1)\n",
        "#print(pi)"
      ],
      "metadata": {
        "id": "l4r6-zqIbii5"
      },
      "execution_count": 7,
      "outputs": []
    },
    {
      "cell_type": "code",
      "source": [
        "data = pi\n",
        "data = str(data)"
      ],
      "metadata": {
        "id": "1iJoytehhk_2"
      },
      "execution_count": 10,
      "outputs": []
    },
    {
      "cell_type": "code",
      "source": [
        "# Найдем эмпирическую статистику цифр\n",
        "exp_list = []\n",
        "for i in range(0,10):\n",
        "    i = str(i)\n",
        "    s = data.count(i)\n",
        "    exp_list.append(s)\n",
        "print('Экспериментальная частота цифр 1-9', 'составляет', exp_list, 'соответственно.')"
      ],
      "metadata": {
        "colab": {
          "base_uri": "https://localhost:8080/"
        },
        "id": "8CSYRyc5hnWC",
        "outputId": "a631435a-6031-4f66-cb76-0bd4f777f51f"
      },
      "execution_count": 11,
      "outputs": [
        {
          "output_type": "stream",
          "name": "stdout",
          "text": [
            "Экспериментальная частота цифр 1-9 составляет [9999, 10137, 9908, 10026, 9970, 10027, 10028, 10025, 9978, 9902] соответственно.\n"
          ]
        }
      ]
    },
    {
      "cell_type": "code",
      "source": [
        "# Для нулевой гипотезы распределение цифр в числе пи равномерное, т.е вероятность вхождения каждой цифры 1/10\n",
        "teor_list = []\n",
        "p = 0.1\n",
        "for i in range(0,10):\n",
        "    i = str(i)\n",
        "    s = N * p\n",
        "    s = int(s)\n",
        "    teor_list.append(s)\n",
        "print('Теоретическая частота цифр 1-9', 'составляет', teor_list, 'соответственно.')"
      ],
      "metadata": {
        "colab": {
          "base_uri": "https://localhost:8080/"
        },
        "id": "QNeO1MQDbihB",
        "outputId": "3c6afbc3-45e9-446d-9968-8d3293ccca0a"
      },
      "execution_count": 8,
      "outputs": [
        {
          "output_type": "stream",
          "name": "stdout",
          "text": [
            "Теоретическая частота цифр 1-9 составляет [10000, 10000, 10000, 10000, 10000, 10000, 10000, 10000, 10000, 10000] соответственно.\n"
          ]
        }
      ]
    },
    {
      "cell_type": "code",
      "source": [
        "# Используем критерий хи-квадрат для вычисления максимального уровня значимости\n",
        "stat, p = stats.chisquare(exp_list, teor_list)\n",
        "print('Значение статистики = %.3f, p-value = %.3f' % (stat, p.round(3)))"
      ],
      "metadata": {
        "colab": {
          "base_uri": "https://localhost:8080/"
        },
        "id": "_ow_dvO6bie_",
        "outputId": "ad391d08-9f7b-48bb-bbcf-330b4f5f56ad"
      },
      "execution_count": 12,
      "outputs": [
        {
          "output_type": "stream",
          "name": "stdout",
          "text": [
            "Значение статистики = 4.104, p-value = 0.904\n"
          ]
        }
      ]
    },
    {
      "cell_type": "markdown",
      "source": [
        "Вывод: максимальный уровень значимости, на котором принимается нулевая гипотеза равен 0.904"
      ],
      "metadata": {
        "id": "A1QHDy8kbulp"
      }
    }
  ]
}